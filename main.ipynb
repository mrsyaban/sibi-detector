{
  "cells": [
    {
      "cell_type": "markdown",
      "metadata": {},
      "source": [
        "# Setup Dependencies"
      ]
    },
    {
      "cell_type": "code",
      "execution_count": 1,
      "metadata": {},
      "outputs": [],
      "source": [
        "%pip install ultralytics\n",
        "%pip install roboflow"
      ]
    },
    {
      "cell_type": "code",
      "execution_count": 2,
      "metadata": {
        "id": "s-a3GfdZhY0t"
      },
      "outputs": [],
      "source": [
        "import os\n",
        "import glob\n",
        "from IPython.display import Image, display\n",
        "from IPython import display\n",
        "\n",
        "import torch\n",
        "import torchvision\n",
        "\n",
        "import ultralytics\n",
        "from roboflow import Roboflow"
      ]
    },
    {
      "cell_type": "code",
      "execution_count": 3,
      "metadata": {
        "id": "kUSVO1Gxi_OZ"
      },
      "outputs": [],
      "source": [
        "display.clear_output()"
      ]
    },
    {
      "cell_type": "code",
      "execution_count": 4,
      "metadata": {
        "colab": {
          "base_uri": "https://localhost:8080/"
        },
        "id": "ixCtMpfygusf",
        "outputId": "f8e76e5b-61fb-47f1-bb8e-a2a4e79ef407"
      },
      "outputs": [
        {
          "name": "stdout",
          "output_type": "stream",
          "text": [
            "Wed Aug 21 00:53:18 2024       \n",
            "+-----------------------------------------------------------------------------------------+\n",
            "| NVIDIA-SMI 560.76                 Driver Version: 560.76         CUDA Version: 12.6     |\n",
            "|-----------------------------------------+------------------------+----------------------+\n",
            "| GPU  Name                  Driver-Model | Bus-Id          Disp.A | Volatile Uncorr. ECC |\n",
            "| Fan  Temp   Perf          Pwr:Usage/Cap |           Memory-Usage | GPU-Util  Compute M. |\n",
            "|                                         |                        |               MIG M. |\n",
            "|=========================================+========================+======================|\n",
            "|   0  NVIDIA GeForce RTX 3050 ...  WDDM  |   00000000:01:00.0 Off |                  N/A |\n",
            "| N/A   54C    P8             13W /   75W |       0MiB /   4096MiB |      0%      Default |\n",
            "|                                         |                        |                  N/A |\n",
            "+-----------------------------------------+------------------------+----------------------+\n",
            "                                                                                         \n",
            "+-----------------------------------------------------------------------------------------+\n",
            "| Processes:                                                                              |\n",
            "|  GPU   GI   CI        PID   Type   Process name                              GPU Memory |\n",
            "|        ID   ID                                                               Usage      |\n",
            "|=========================================================================================|\n",
            "|    0   N/A  N/A     20536    C+G   ...inaries\\Win64\\EpicGamesLauncher.exe      N/A      |\n",
            "+-----------------------------------------------------------------------------------------+\n"
          ]
        }
      ],
      "source": [
        "!nvidia-smi"
      ]
    },
    {
      "cell_type": "code",
      "execution_count": 5,
      "metadata": {
        "id": "x-vOupV4hVAt"
      },
      "outputs": [
        {
          "name": "stdout",
          "output_type": "stream",
          "text": [
            "d:\\myres-2024\\Sign-Language-Alphabets-Detection-and-Recongition-using-YOLOv8\n"
          ]
        }
      ],
      "source": [
        "HOME = os.getcwd()\n",
        "print(HOME)"
      ]
    },
    {
      "cell_type": "code",
      "execution_count": 8,
      "metadata": {
        "colab": {
          "base_uri": "https://localhost:8080/"
        },
        "id": "EWrOSmH6i2mW",
        "outputId": "35c3849a-ab94-4d79-bd7a-9eb5661a2a53"
      },
      "outputs": [
        {
          "name": "stdout",
          "output_type": "stream",
          "text": [
            "Ultralytics YOLOv8.2.76  Python-3.10.10 torch-2.4.0+cu124 CUDA:0 (NVIDIA GeForce RTX 3050 Laptop GPU, 4096MiB)\n",
            "Setup complete  (16 CPUs, 23.4 GB RAM, 237.9/476.9 GB disk)\n",
            "\n",
            "OS                  Windows-10-10.0.22631-SP0\n",
            "Environment         Jupyter\n",
            "Python              3.10.10\n",
            "Install             pip\n",
            "RAM                 23.42 GB\n",
            "CPU                 AMD Ryzen 7 4800H with Radeon Graphics\n",
            "CUDA                12.4\n",
            "\n",
            "numpy                1.26.4<2.0.0,>=1.23.0\n",
            "matplotlib           3.9.1.post1>=3.3.0\n",
            "opencv-python        4.10.0.84>=4.6.0\n",
            "pillow               10.4.0>=7.1.2\n",
            "pyyaml               6.0.2>=5.3.1\n",
            "requests             2.32.3>=2.23.0\n",
            "scipy                1.14.0>=1.4.1\n",
            "torch                2.4.0+cu124>=1.8.0\n",
            "torchvision          0.19.0+cu124>=0.9.0\n",
            "tqdm                 4.66.5>=4.64.0\n",
            "psutil               6.0.0\n",
            "py-cpuinfo           9.0.0\n",
            "pandas               2.2.2>=1.1.4\n",
            "seaborn              0.13.2>=0.11.0\n",
            "ultralytics-thop     2.0.0>=2.0.0\n"
          ]
        }
      ],
      "source": [
        "ultralytics.utils.checks.collect_system_info()"
      ]
    },
    {
      "cell_type": "markdown",
      "metadata": {
        "id": "TLCNeMc6jNa-"
      },
      "source": [
        "# Load Dataset"
      ]
    },
    {
      "cell_type": "code",
      "execution_count": null,
      "metadata": {},
      "outputs": [],
      "source": [
        "!mkdir {HOME}\\datasets\n",
        "%cd {HOME}\\datasets"
      ]
    },
    {
      "cell_type": "code",
      "execution_count": 10,
      "metadata": {},
      "outputs": [],
      "source": [
        "rf = Roboflow(api_key=\"\")\n",
        "project = rf.workspace(\"david-lee-d0rhs\").project(\"american-sign-language-letters\")\n",
        "dataset = project.version(1).download(\"yolov8\")"
      ]
    },
    {
      "cell_type": "markdown",
      "metadata": {
        "id": "65k1QMPwjt63"
      },
      "source": [
        "# Train Model"
      ]
    },
    {
      "cell_type": "code",
      "execution_count": 11,
      "metadata": {},
      "outputs": [],
      "source": [
        "\n",
        "torch.cuda.empty_cache()\n",
        "torch.cuda.set_device(0) # Set to your desired GPU number\n",
        "\n",
        "%cd {HOME}\n",
        "\n",
        "\n",
        "!yolo task=detect mode=train device=0 source=frame_pil model=yolov8s.pt data=<datasets_yaml> epochs=20 imgsz=640   "
      ]
    },
    {
      "cell_type": "code",
      "execution_count": null,
      "metadata": {},
      "outputs": [],
      "source": [
        "%cd {HOME}\n",
        "\n",
        "\n",
        "!yolo task=detect mode=train source=frame_pil model=yolov8s.pt data=<datasets_yaml> epochs=55 imgsz=640   "
      ]
    },
    {
      "cell_type": "code",
      "execution_count": null,
      "metadata": {},
      "outputs": [],
      "source": [
        "!dir {HOME}\\runs\\detect\\train\\"
      ]
    },
    {
      "cell_type": "markdown",
      "metadata": {
        "id": "dRT8XUB2T-rs"
      },
      "source": [
        "# Analysis"
      ]
    },
    {
      "cell_type": "code",
      "execution_count": null,
      "metadata": {},
      "outputs": [],
      "source": [
        "%cd {HOME}\n",
        "Image(filename=f'{HOME}/runs/detect/train4/confusion_matrix.png', width=900)"
      ]
    },
    {
      "cell_type": "code",
      "execution_count": null,
      "metadata": {},
      "outputs": [],
      "source": [
        "%cd {HOME}\n",
        "Image(filename=f'{HOME}/runs/detect/train4/results.png', width=600)"
      ]
    },
    {
      "cell_type": "code",
      "execution_count": null,
      "metadata": {},
      "outputs": [],
      "source": [
        "%cd {HOME}\n",
        "Image(filename=f'{HOME}/runs/detect/train4/val_batch0_pred.jpg', width=600)"
      ]
    }
  ],
  "metadata": {
    "accelerator": "GPU",
    "colab": {
      "provenance": []
    },
    "gpuClass": "standard",
    "kernelspec": {
      "display_name": "Python 3",
      "name": "python3"
    },
    "language_info": {
      "codemirror_mode": {
        "name": "ipython",
        "version": 3
      },
      "file_extension": ".py",
      "mimetype": "text/x-python",
      "name": "python",
      "nbconvert_exporter": "python",
      "pygments_lexer": "ipython3",
      "version": "3.10.10"
    }
  },
  "nbformat": 4,
  "nbformat_minor": 0
}
